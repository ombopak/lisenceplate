{
  "cells": [
    {
      "cell_type": "code",
      "source": [
        "!sudo apt-get install build-essential git libopencv-dev cmake\n",
        "!mkdir ~/src\n",
        "%cd ~/src\n",
        "!git clone https://github.com/hank-ai/darknet\n",
        "%cd darknet\n",
        "!mkdir build\n",
        "%cd build\n",
        "!cmake -DCMAKE_BUILD_TYPE=Release ..\n",
        "!make -j4 package\n",
        "!dpkg -i darknet-3.0.212-Linux.deb"
      ],
      "metadata": {
        "id": "eIOBUBCOdVej"
      },
      "execution_count": null,
      "outputs": []
    },
    {
      "cell_type": "code",
      "source": [
        "%cd ~/src\n",
        "!git clone https://github.com/ombopak/lisenceplate.git"
      ],
      "metadata": {
        "id": "-rtxyeeZfb_7"
      },
      "execution_count": null,
      "outputs": []
    },
    {
      "cell_type": "code",
      "source": [
        "from google.colab import drive\n",
        "drive.mount('root/')"
      ],
      "metadata": {
        "colab": {
          "base_uri": "https://localhost:8080/"
        },
        "id": "EDqFfscrq-D3",
        "outputId": "d16b24a0-42b2-4ab1-e626-301a75345b7b"
      },
      "execution_count": 24,
      "outputs": [
        {
          "output_type": "stream",
          "name": "stdout",
          "text": [
            "Mounted at root/\n"
          ]
        }
      ]
    },
    {
      "cell_type": "code",
      "source": [
        "!dir"
      ],
      "metadata": {
        "id": "ShUiYx0ksaAs",
        "outputId": "571684ad-9f2a-48ec-c9ff-0340cb2fcc73",
        "colab": {
          "base_uri": "https://localhost:8080/"
        }
      },
      "execution_count": 25,
      "outputs": [
        {
          "output_type": "stream",
          "name": "stdout",
          "text": [
            "root  src\n"
          ]
        }
      ]
    },
    {
      "cell_type": "code",
      "source": [
        "%cd ~/"
      ],
      "metadata": {
        "id": "LPBhNS_Lsd0d",
        "outputId": "5a601281-b360-48b0-aa97-d6bff29976aa",
        "colab": {
          "base_uri": "https://localhost:8080/"
        }
      },
      "execution_count": 20,
      "outputs": [
        {
          "output_type": "stream",
          "name": "stdout",
          "text": [
            "/root\n"
          ]
        }
      ]
    }
  ],
  "metadata": {
    "colab": {
      "name": "Welcome To Colab",
      "provenance": [],
      "gpuType": "T4"
    },
    "kernelspec": {
      "display_name": "Python 3",
      "name": "python3"
    },
    "accelerator": "GPU"
  },
  "nbformat": 4,
  "nbformat_minor": 0
}