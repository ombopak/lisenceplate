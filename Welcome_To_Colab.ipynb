{
  "cells": [
    {
      "cell_type": "code",
      "source": [
        "!sudo apt-get install build-essential git libopencv-dev cmake\n",
        "!mkdir ~/src\n",
        "%cd ~/src\n",
        "!git clone https://github.com/hank-ai/darknet\n",
        "%cd darknet\n",
        "!mkdir build\n",
        "%cd build\n",
        "!cmake -DCMAKE_BUILD_TYPE=Release ..\n",
        "!make -j4 package\n",
        "!dpkg -i darknet-3.0.212-Linux.deb"
      ],
      "metadata": {
        "id": "eIOBUBCOdVej"
      },
      "execution_count": null,
      "outputs": []
    },
    {
      "cell_type": "code",
      "source": [
        "%cd ~/src\n",
        "!git clone https://github.com/ombopak/lisenceplate.git"
      ],
      "metadata": {
        "id": "-rtxyeeZfb_7"
      },
      "execution_count": null,
      "outputs": []
    },
    {
      "cell_type": "code",
      "source": [
        "from google.colab import drive\n",
        "drive.mount('root/')"
      ],
      "metadata": {
        "id": "EDqFfscrq-D3"
      },
      "execution_count": null,
      "outputs": []
    }
  ],
  "metadata": {
    "colab": {
      "name": "Welcome To Colab",
      "provenance": [],
      "gpuType": "T4"
    },
    "kernelspec": {
      "display_name": "Python 3",
      "name": "python3"
    },
    "accelerator": "GPU"
  },
  "nbformat": 4,
  "nbformat_minor": 0
}